{
 "cells": [
  {
   "cell_type": "code",
   "execution_count": 1,
   "metadata": {},
   "outputs": [],
   "source": [
    "import sqlite3\n",
    "import pandas as pd\n",
    "import matplotlib.pyplot as plt\n",
    "import seaborn as sns\n",
    "import numpy as np\n",
    "from sklearn import linear_model\n",
    "from sklearn.metrics import accuracy_score\n",
    "from sklearn.tree import DecisionTreeClassifier"
   ]
  },
  {
   "cell_type": "markdown",
   "metadata": {},
   "source": [
    "## Загрузка данных и предварительный анализ"
   ]
  },
  {
   "cell_type": "markdown",
   "metadata": {},
   "source": [
    "В \"боевой\" версии данный скрипт должен обращаться напрямую к БД и считывать данные из необходимой таблицы, как это показано в блоке ниже. Но для упрощения моделирования ситуации, мы возьмём данные из заготовленного заранее .csv файла."
   ]
  },
  {
   "cell_type": "code",
   "execution_count": 2,
   "metadata": {},
   "outputs": [],
   "source": [
    "#cnx = sqlite3.connect('Data/db.sqlite3') #тут путь к БД\n",
    "#df = pd.read_sql_query(\"SELECT * FROM admin_panel_result\", cnx)"
   ]
  },
  {
   "cell_type": "code",
   "execution_count": 3,
   "metadata": {},
   "outputs": [
    {
     "data": {
      "text/html": [
       "<div>\n",
       "<style scoped>\n",
       "    .dataframe tbody tr th:only-of-type {\n",
       "        vertical-align: middle;\n",
       "    }\n",
       "\n",
       "    .dataframe tbody tr th {\n",
       "        vertical-align: top;\n",
       "    }\n",
       "\n",
       "    .dataframe thead th {\n",
       "        text-align: right;\n",
       "    }\n",
       "</style>\n",
       "<table border=\"1\" class=\"dataframe\">\n",
       "  <thead>\n",
       "    <tr style=\"text-align: right;\">\n",
       "      <th></th>\n",
       "      <th>Unnamed: 0</th>\n",
       "      <th>correct_answer</th>\n",
       "      <th>spent_time</th>\n",
       "      <th>pass_date</th>\n",
       "      <th>num_attempt</th>\n",
       "      <th>course_id</th>\n",
       "      <th>question_id</th>\n",
       "      <th>topic_id</th>\n",
       "      <th>user_id</th>\n",
       "      <th>is_ok</th>\n",
       "    </tr>\n",
       "  </thead>\n",
       "  <tbody>\n",
       "    <tr>\n",
       "      <th>0</th>\n",
       "      <td>0</td>\n",
       "      <td>0</td>\n",
       "      <td>30000000</td>\n",
       "      <td>2020-05-09 12:54:57.638181</td>\n",
       "      <td>0</td>\n",
       "      <td>1</td>\n",
       "      <td>1</td>\n",
       "      <td>1</td>\n",
       "      <td>1</td>\n",
       "      <td>1</td>\n",
       "    </tr>\n",
       "    <tr>\n",
       "      <th>1</th>\n",
       "      <td>1</td>\n",
       "      <td>0</td>\n",
       "      <td>24000000</td>\n",
       "      <td>2020-05-09 12:54:57.657616</td>\n",
       "      <td>0</td>\n",
       "      <td>1</td>\n",
       "      <td>2</td>\n",
       "      <td>1</td>\n",
       "      <td>1</td>\n",
       "      <td>1</td>\n",
       "    </tr>\n",
       "    <tr>\n",
       "      <th>2</th>\n",
       "      <td>2</td>\n",
       "      <td>0</td>\n",
       "      <td>28000000</td>\n",
       "      <td>2020-05-09 12:54:57.667589</td>\n",
       "      <td>0</td>\n",
       "      <td>1</td>\n",
       "      <td>3</td>\n",
       "      <td>1</td>\n",
       "      <td>1</td>\n",
       "      <td>1</td>\n",
       "    </tr>\n",
       "    <tr>\n",
       "      <th>3</th>\n",
       "      <td>3</td>\n",
       "      <td>0</td>\n",
       "      <td>67000000</td>\n",
       "      <td>2020-05-09 12:54:57.681554</td>\n",
       "      <td>0</td>\n",
       "      <td>1</td>\n",
       "      <td>4</td>\n",
       "      <td>1</td>\n",
       "      <td>1</td>\n",
       "      <td>1</td>\n",
       "    </tr>\n",
       "    <tr>\n",
       "      <th>4</th>\n",
       "      <td>4</td>\n",
       "      <td>0</td>\n",
       "      <td>55000000</td>\n",
       "      <td>2020-05-09 12:54:57.692524</td>\n",
       "      <td>0</td>\n",
       "      <td>1</td>\n",
       "      <td>5</td>\n",
       "      <td>1</td>\n",
       "      <td>1</td>\n",
       "      <td>0</td>\n",
       "    </tr>\n",
       "  </tbody>\n",
       "</table>\n",
       "</div>"
      ],
      "text/plain": [
       "   Unnamed: 0  correct_answer  spent_time                   pass_date  \\\n",
       "0           0               0    30000000  2020-05-09 12:54:57.638181   \n",
       "1           1               0    24000000  2020-05-09 12:54:57.657616   \n",
       "2           2               0    28000000  2020-05-09 12:54:57.667589   \n",
       "3           3               0    67000000  2020-05-09 12:54:57.681554   \n",
       "4           4               0    55000000  2020-05-09 12:54:57.692524   \n",
       "\n",
       "   num_attempt  course_id  question_id  topic_id  user_id  is_ok  \n",
       "0            0          1            1         1        1      1  \n",
       "1            0          1            2         1        1      1  \n",
       "2            0          1            3         1        1      1  \n",
       "3            0          1            4         1        1      1  \n",
       "4            0          1            5         1        1      0  "
      ]
     },
     "execution_count": 3,
     "metadata": {},
     "output_type": "execute_result"
    }
   ],
   "source": [
    "df = pd.read_csv('Data/data.csv')\n",
    "df.head()"
   ]
  },
  {
   "cell_type": "code",
   "execution_count": 4,
   "metadata": {},
   "outputs": [
    {
     "data": {
      "text/html": [
       "<div>\n",
       "<style scoped>\n",
       "    .dataframe tbody tr th:only-of-type {\n",
       "        vertical-align: middle;\n",
       "    }\n",
       "\n",
       "    .dataframe tbody tr th {\n",
       "        vertical-align: top;\n",
       "    }\n",
       "\n",
       "    .dataframe thead th {\n",
       "        text-align: right;\n",
       "    }\n",
       "</style>\n",
       "<table border=\"1\" class=\"dataframe\">\n",
       "  <thead>\n",
       "    <tr style=\"text-align: right;\">\n",
       "      <th></th>\n",
       "      <th>Unnamed: 0</th>\n",
       "      <th>correct_answer</th>\n",
       "      <th>spent_time</th>\n",
       "      <th>pass_date</th>\n",
       "      <th>num_attempt</th>\n",
       "      <th>course_id</th>\n",
       "      <th>question_id</th>\n",
       "      <th>topic_id</th>\n",
       "      <th>user_id</th>\n",
       "      <th>is_ok</th>\n",
       "    </tr>\n",
       "  </thead>\n",
       "  <tbody>\n",
       "    <tr>\n",
       "      <th>0</th>\n",
       "      <td>0</td>\n",
       "      <td>0</td>\n",
       "      <td>30000000</td>\n",
       "      <td>2020-05-09 12:54:57.638181</td>\n",
       "      <td>0</td>\n",
       "      <td>1</td>\n",
       "      <td>1</td>\n",
       "      <td>1</td>\n",
       "      <td>1</td>\n",
       "      <td>1</td>\n",
       "    </tr>\n",
       "    <tr>\n",
       "      <th>1</th>\n",
       "      <td>1</td>\n",
       "      <td>0</td>\n",
       "      <td>24000000</td>\n",
       "      <td>2020-05-09 12:54:57.657616</td>\n",
       "      <td>0</td>\n",
       "      <td>1</td>\n",
       "      <td>2</td>\n",
       "      <td>1</td>\n",
       "      <td>1</td>\n",
       "      <td>1</td>\n",
       "    </tr>\n",
       "    <tr>\n",
       "      <th>2</th>\n",
       "      <td>2</td>\n",
       "      <td>0</td>\n",
       "      <td>28000000</td>\n",
       "      <td>2020-05-09 12:54:57.667589</td>\n",
       "      <td>0</td>\n",
       "      <td>1</td>\n",
       "      <td>3</td>\n",
       "      <td>1</td>\n",
       "      <td>1</td>\n",
       "      <td>1</td>\n",
       "    </tr>\n",
       "    <tr>\n",
       "      <th>3</th>\n",
       "      <td>3</td>\n",
       "      <td>0</td>\n",
       "      <td>67000000</td>\n",
       "      <td>2020-05-09 12:54:57.681554</td>\n",
       "      <td>0</td>\n",
       "      <td>1</td>\n",
       "      <td>4</td>\n",
       "      <td>1</td>\n",
       "      <td>1</td>\n",
       "      <td>1</td>\n",
       "    </tr>\n",
       "    <tr>\n",
       "      <th>4</th>\n",
       "      <td>4</td>\n",
       "      <td>0</td>\n",
       "      <td>55000000</td>\n",
       "      <td>2020-05-09 12:54:57.692524</td>\n",
       "      <td>0</td>\n",
       "      <td>1</td>\n",
       "      <td>5</td>\n",
       "      <td>1</td>\n",
       "      <td>1</td>\n",
       "      <td>0</td>\n",
       "    </tr>\n",
       "  </tbody>\n",
       "</table>\n",
       "</div>"
      ],
      "text/plain": [
       "   Unnamed: 0  correct_answer  spent_time                   pass_date  \\\n",
       "0           0               0    30000000  2020-05-09 12:54:57.638181   \n",
       "1           1               0    24000000  2020-05-09 12:54:57.657616   \n",
       "2           2               0    28000000  2020-05-09 12:54:57.667589   \n",
       "3           3               0    67000000  2020-05-09 12:54:57.681554   \n",
       "4           4               0    55000000  2020-05-09 12:54:57.692524   \n",
       "\n",
       "   num_attempt  course_id  question_id  topic_id  user_id  is_ok  \n",
       "0            0          1            1         1        1      1  \n",
       "1            0          1            2         1        1      1  \n",
       "2            0          1            3         1        1      1  \n",
       "3            0          1            4         1        1      1  \n",
       "4            0          1            5         1        1      0  "
      ]
     },
     "execution_count": 4,
     "metadata": {},
     "output_type": "execute_result"
    }
   ],
   "source": [
    "df.head()"
   ]
  },
  {
   "cell_type": "code",
   "execution_count": 5,
   "metadata": {},
   "outputs": [
    {
     "data": {
      "text/html": [
       "<div>\n",
       "<style scoped>\n",
       "    .dataframe tbody tr th:only-of-type {\n",
       "        vertical-align: middle;\n",
       "    }\n",
       "\n",
       "    .dataframe tbody tr th {\n",
       "        vertical-align: top;\n",
       "    }\n",
       "\n",
       "    .dataframe thead th {\n",
       "        text-align: right;\n",
       "    }\n",
       "</style>\n",
       "<table border=\"1\" class=\"dataframe\">\n",
       "  <thead>\n",
       "    <tr style=\"text-align: right;\">\n",
       "      <th></th>\n",
       "      <th>correct_answer</th>\n",
       "      <th>spent_time</th>\n",
       "      <th>pass_date</th>\n",
       "      <th>num_attempt</th>\n",
       "      <th>course_id</th>\n",
       "      <th>question_id</th>\n",
       "      <th>topic_id</th>\n",
       "      <th>user_id</th>\n",
       "      <th>is_ok</th>\n",
       "    </tr>\n",
       "  </thead>\n",
       "  <tbody>\n",
       "    <tr>\n",
       "      <th>0</th>\n",
       "      <td>0</td>\n",
       "      <td>30000000</td>\n",
       "      <td>2020-05-09 12:54:57.638181</td>\n",
       "      <td>0</td>\n",
       "      <td>1</td>\n",
       "      <td>1</td>\n",
       "      <td>1</td>\n",
       "      <td>1</td>\n",
       "      <td>1</td>\n",
       "    </tr>\n",
       "    <tr>\n",
       "      <th>1</th>\n",
       "      <td>0</td>\n",
       "      <td>24000000</td>\n",
       "      <td>2020-05-09 12:54:57.657616</td>\n",
       "      <td>0</td>\n",
       "      <td>1</td>\n",
       "      <td>2</td>\n",
       "      <td>1</td>\n",
       "      <td>1</td>\n",
       "      <td>1</td>\n",
       "    </tr>\n",
       "    <tr>\n",
       "      <th>2</th>\n",
       "      <td>0</td>\n",
       "      <td>28000000</td>\n",
       "      <td>2020-05-09 12:54:57.667589</td>\n",
       "      <td>0</td>\n",
       "      <td>1</td>\n",
       "      <td>3</td>\n",
       "      <td>1</td>\n",
       "      <td>1</td>\n",
       "      <td>1</td>\n",
       "    </tr>\n",
       "    <tr>\n",
       "      <th>3</th>\n",
       "      <td>0</td>\n",
       "      <td>67000000</td>\n",
       "      <td>2020-05-09 12:54:57.681554</td>\n",
       "      <td>0</td>\n",
       "      <td>1</td>\n",
       "      <td>4</td>\n",
       "      <td>1</td>\n",
       "      <td>1</td>\n",
       "      <td>1</td>\n",
       "    </tr>\n",
       "    <tr>\n",
       "      <th>4</th>\n",
       "      <td>0</td>\n",
       "      <td>55000000</td>\n",
       "      <td>2020-05-09 12:54:57.692524</td>\n",
       "      <td>0</td>\n",
       "      <td>1</td>\n",
       "      <td>5</td>\n",
       "      <td>1</td>\n",
       "      <td>1</td>\n",
       "      <td>0</td>\n",
       "    </tr>\n",
       "  </tbody>\n",
       "</table>\n",
       "</div>"
      ],
      "text/plain": [
       "   correct_answer  spent_time                   pass_date  num_attempt  \\\n",
       "0               0    30000000  2020-05-09 12:54:57.638181            0   \n",
       "1               0    24000000  2020-05-09 12:54:57.657616            0   \n",
       "2               0    28000000  2020-05-09 12:54:57.667589            0   \n",
       "3               0    67000000  2020-05-09 12:54:57.681554            0   \n",
       "4               0    55000000  2020-05-09 12:54:57.692524            0   \n",
       "\n",
       "   course_id  question_id  topic_id  user_id  is_ok  \n",
       "0          1            1         1        1      1  \n",
       "1          1            2         1        1      1  \n",
       "2          1            3         1        1      1  \n",
       "3          1            4         1        1      1  \n",
       "4          1            5         1        1      0  "
      ]
     },
     "execution_count": 5,
     "metadata": {},
     "output_type": "execute_result"
    }
   ],
   "source": [
    "del df['Unnamed: 0']\n",
    "df.head()"
   ]
  },
  {
   "cell_type": "code",
   "execution_count": 6,
   "metadata": {},
   "outputs": [
    {
     "data": {
      "text/html": [
       "<div>\n",
       "<style scoped>\n",
       "    .dataframe tbody tr th:only-of-type {\n",
       "        vertical-align: middle;\n",
       "    }\n",
       "\n",
       "    .dataframe tbody tr th {\n",
       "        vertical-align: top;\n",
       "    }\n",
       "\n",
       "    .dataframe thead th {\n",
       "        text-align: right;\n",
       "    }\n",
       "</style>\n",
       "<table border=\"1\" class=\"dataframe\">\n",
       "  <thead>\n",
       "    <tr style=\"text-align: right;\">\n",
       "      <th></th>\n",
       "      <th>correct_answer</th>\n",
       "      <th>spent_time</th>\n",
       "      <th>num_attempt</th>\n",
       "      <th>course_id</th>\n",
       "      <th>question_id</th>\n",
       "      <th>topic_id</th>\n",
       "      <th>user_id</th>\n",
       "      <th>is_ok</th>\n",
       "    </tr>\n",
       "  </thead>\n",
       "  <tbody>\n",
       "    <tr>\n",
       "      <th>count</th>\n",
       "      <td>30.000000</td>\n",
       "      <td>3.000000e+01</td>\n",
       "      <td>30.0</td>\n",
       "      <td>30.0</td>\n",
       "      <td>30.000000</td>\n",
       "      <td>30.0</td>\n",
       "      <td>30.000000</td>\n",
       "      <td>30.000000</td>\n",
       "    </tr>\n",
       "    <tr>\n",
       "      <th>mean</th>\n",
       "      <td>0.566667</td>\n",
       "      <td>4.563333e+07</td>\n",
       "      <td>0.0</td>\n",
       "      <td>1.0</td>\n",
       "      <td>5.500000</td>\n",
       "      <td>1.0</td>\n",
       "      <td>1.333333</td>\n",
       "      <td>0.733333</td>\n",
       "    </tr>\n",
       "    <tr>\n",
       "      <th>std</th>\n",
       "      <td>0.504007</td>\n",
       "      <td>2.685656e+07</td>\n",
       "      <td>0.0</td>\n",
       "      <td>0.0</td>\n",
       "      <td>2.921384</td>\n",
       "      <td>0.0</td>\n",
       "      <td>0.479463</td>\n",
       "      <td>0.449776</td>\n",
       "    </tr>\n",
       "    <tr>\n",
       "      <th>min</th>\n",
       "      <td>0.000000</td>\n",
       "      <td>1.000000e+07</td>\n",
       "      <td>0.0</td>\n",
       "      <td>1.0</td>\n",
       "      <td>1.000000</td>\n",
       "      <td>1.0</td>\n",
       "      <td>1.000000</td>\n",
       "      <td>0.000000</td>\n",
       "    </tr>\n",
       "    <tr>\n",
       "      <th>25%</th>\n",
       "      <td>0.000000</td>\n",
       "      <td>2.475000e+07</td>\n",
       "      <td>0.0</td>\n",
       "      <td>1.0</td>\n",
       "      <td>3.000000</td>\n",
       "      <td>1.0</td>\n",
       "      <td>1.000000</td>\n",
       "      <td>0.250000</td>\n",
       "    </tr>\n",
       "    <tr>\n",
       "      <th>50%</th>\n",
       "      <td>1.000000</td>\n",
       "      <td>3.400000e+07</td>\n",
       "      <td>0.0</td>\n",
       "      <td>1.0</td>\n",
       "      <td>5.500000</td>\n",
       "      <td>1.0</td>\n",
       "      <td>1.000000</td>\n",
       "      <td>1.000000</td>\n",
       "    </tr>\n",
       "    <tr>\n",
       "      <th>75%</th>\n",
       "      <td>1.000000</td>\n",
       "      <td>6.700000e+07</td>\n",
       "      <td>0.0</td>\n",
       "      <td>1.0</td>\n",
       "      <td>8.000000</td>\n",
       "      <td>1.0</td>\n",
       "      <td>2.000000</td>\n",
       "      <td>1.000000</td>\n",
       "    </tr>\n",
       "    <tr>\n",
       "      <th>max</th>\n",
       "      <td>1.000000</td>\n",
       "      <td>9.700000e+07</td>\n",
       "      <td>0.0</td>\n",
       "      <td>1.0</td>\n",
       "      <td>10.000000</td>\n",
       "      <td>1.0</td>\n",
       "      <td>2.000000</td>\n",
       "      <td>1.000000</td>\n",
       "    </tr>\n",
       "  </tbody>\n",
       "</table>\n",
       "</div>"
      ],
      "text/plain": [
       "       correct_answer    spent_time  num_attempt  course_id  question_id  \\\n",
       "count       30.000000  3.000000e+01         30.0       30.0    30.000000   \n",
       "mean         0.566667  4.563333e+07          0.0        1.0     5.500000   \n",
       "std          0.504007  2.685656e+07          0.0        0.0     2.921384   \n",
       "min          0.000000  1.000000e+07          0.0        1.0     1.000000   \n",
       "25%          0.000000  2.475000e+07          0.0        1.0     3.000000   \n",
       "50%          1.000000  3.400000e+07          0.0        1.0     5.500000   \n",
       "75%          1.000000  6.700000e+07          0.0        1.0     8.000000   \n",
       "max          1.000000  9.700000e+07          0.0        1.0    10.000000   \n",
       "\n",
       "       topic_id    user_id      is_ok  \n",
       "count      30.0  30.000000  30.000000  \n",
       "mean        1.0   1.333333   0.733333  \n",
       "std         0.0   0.479463   0.449776  \n",
       "min         1.0   1.000000   0.000000  \n",
       "25%         1.0   1.000000   0.250000  \n",
       "50%         1.0   1.000000   1.000000  \n",
       "75%         1.0   2.000000   1.000000  \n",
       "max         1.0   2.000000   1.000000  "
      ]
     },
     "execution_count": 6,
     "metadata": {},
     "output_type": "execute_result"
    }
   ],
   "source": [
    "df.describe()"
   ]
  },
  {
   "cell_type": "markdown",
   "metadata": {},
   "source": [
    "Убрав лишние данные и изучим получившийся датасет. Имеем следующие данные:\n",
    "1. correct_answer. Правильность ответа, который дал пользователь. 0 - неверно, 1 - верно.\n",
    "2. spent_time. Сколько времени потратил пользователь на данном вопросе.\n",
    "3. pass_date. Точная дата и время, когда был дан ответ.\n",
    "4. num_attempt. Номер попытки.\n",
    "5. course_id.  ID курса, которому принадлежит вопрос.\n",
    "6. topic_id. ID темы, которой принадлежит вопрос.\n",
    "6. question_id. ID вопроса.\n",
    "7. user_id. ID пользователя.\n",
    "8. is_ok. Корректность вопроса. Вопрос может быть некорректно поставлен, или в базе знаний сайта может не хватать необходимой информации, чтобы ответить на него верно. Выражаясь проще, мы можем сказать что вопрос некорректен в том случае, если люди на него редко отвечают правильно, либо если они долго над ним думают и так далее. Это будет целевой параметр. Построим модель, которая по всем полям указанным выше, будет предсказывать значение поля is_ok. "
   ]
  },
  {
   "cell_type": "markdown",
   "metadata": {},
   "source": [
    "Подведем итог. Зная действия пользователя в системе адаптации, постараемся построить модель, которая поможет:\n",
    "1. Упростить контроль за выполнением заданий и созданием вопросов.\n",
    "2. Построит наглядную инфографику для администратора системы.\n",
    "3. Сможет выявлять некорректные вопросы. Это даст возможность таргетированного выявления пробелов в построении учебного процесса (что, в свою очередь, позволит составителю базы знаний яснее понимать что и где надо исправить). "
   ]
  },
  {
   "cell_type": "markdown",
   "metadata": {},
   "source": [
    "## Построим инфографику"
   ]
  },
  {
   "cell_type": "markdown",
   "metadata": {},
   "source": [
    "В первую очередь посмотрим на соотношение правильных ответов к неправильным. Предусмотрим возможность фильтрации для вывода на график. На данном графике можно настроить:\n",
    "1. ID курса. Можно выбрать курс с определенным номером, либо же использовать информацию обо всех курсах. Тогда переменная должна хранить в себе значение 'all'\n",
    "2. ID темы. Тот же функционал что выше, только для тем.\n",
    "3. ID пользователя. Тот же функционал что выше, только для пользователя.\n",
    "4. Период анализа. Переменные start_date и stop_date указывают даты, которые формируют период, за который мы хотим посмотреть отчётность."
   ]
  },
  {
   "cell_type": "code",
   "execution_count": 7,
   "metadata": {},
   "outputs": [],
   "source": [
    "course =1\n",
    "topic = 1\n",
    "question = 'all'\n",
    "id = 'all'\n",
    "start_date = '2020-05-01'\n",
    "stop_date = '2020-05-10'"
   ]
  },
  {
   "cell_type": "code",
   "execution_count": 8,
   "metadata": {},
   "outputs": [
    {
     "data": {
      "text/plain": [
       "<matplotlib.axes._subplots.AxesSubplot at 0x7f4de9c7cdd8>"
      ]
     },
     "execution_count": 8,
     "metadata": {},
     "output_type": "execute_result"
    },
    {
     "data": {
      "image/png": "[encoded data removed]",
      "text/plain": [
       "<Figure size 432x288 with 1 Axes>"
      ]
     },
     "metadata": {
      "needs_background": "light"
     },
     "output_type": "display_data"
    }
   ],
   "source": [
    "if id != 'all':\n",
    "        df = df[df['user_id'] == id]\n",
    "if course != 'all':\n",
    "        df = df[df['course_id'] == course]\n",
    "if topic != 'all':\n",
    "    df = df[df['topic_id'] == topic]\n",
    "df = df[df['pass_date'] >= start_date]\n",
    "df = df[df['pass_date'] <= stop_date]\n",
    "    \n",
    "plt.title(\"Ответы пользователя: \" + str(id) + \", по курсу: \" + str(course)\n",
    "              + \", по теме: \" + str(topic) + \", по вопросу: \" + str(question))\n",
    "sns.countplot(x='correct_answer', data=df)"
   ]
  },
  {
   "cell_type": "markdown",
   "metadata": {},
   "source": [
    "Затем построим график, на котором выведем стреднее время ответа на каждый вопрос, интересуемого нас теста. Предусмотрим такой же функционал с фильтрацией по пользователям, курсам и темам."
   ]
  },
  {
   "cell_type": "code",
   "execution_count": 9,
   "metadata": {},
   "outputs": [
    {
     "data": {
      "text/plain": [
       "[<matplotlib.lines.Line2D at 0x7f4de77658d0>]"
      ]
     },
     "execution_count": 9,
     "metadata": {},
     "output_type": "execute_result"
    },
    {
     "data": {
      "image/png": "[encoded data removed]",
      "text/plain": [
       "<Figure size 432x288 with 1 Axes>"
      ]
     },
     "metadata": {
      "needs_background": "light"
     },
     "output_type": "display_data"
    }
   ],
   "source": [
    "time = [0] * 10\n",
    "for i in range(0, 9):\n",
    "    buf = df[df['question_id'] == i]\n",
    "    time[i] = buf['spent_time'].mean()\n",
    "plt.title(\"Время пользователя: \" + str(id) + \", на тест по курсу: \" + str(course)\n",
    "              + \", по теме: \" + str(topic))\n",
    "plt.plot(time)"
   ]
  },
  {
   "cell_type": "markdown",
   "metadata": {},
   "source": [
    "## Построим модель "
   ]
  },
  {
   "cell_type": "markdown",
   "metadata": {},
   "source": [
    "Для построения модели удалим лишние данные из датасета. Маловероятно, что поле pass_date коррелирует с корректностью постановки вопроса, поэтому считаем его за \"лишние данные\""
   ]
  },
  {
   "cell_type": "code",
   "execution_count": 10,
   "metadata": {},
   "outputs": [
    {
     "data": {
      "text/html": [
       "<div>\n",
       "<style scoped>\n",
       "    .dataframe tbody tr th:only-of-type {\n",
       "        vertical-align: middle;\n",
       "    }\n",
       "\n",
       "    .dataframe tbody tr th {\n",
       "        vertical-align: top;\n",
       "    }\n",
       "\n",
       "    .dataframe thead th {\n",
       "        text-align: right;\n",
       "    }\n",
       "</style>\n",
       "<table border=\"1\" class=\"dataframe\">\n",
       "  <thead>\n",
       "    <tr style=\"text-align: right;\">\n",
       "      <th></th>\n",
       "      <th>correct_answer</th>\n",
       "      <th>spent_time</th>\n",
       "      <th>num_attempt</th>\n",
       "      <th>course_id</th>\n",
       "      <th>question_id</th>\n",
       "      <th>topic_id</th>\n",
       "      <th>user_id</th>\n",
       "      <th>is_ok</th>\n",
       "    </tr>\n",
       "  </thead>\n",
       "  <tbody>\n",
       "    <tr>\n",
       "      <th>0</th>\n",
       "      <td>0</td>\n",
       "      <td>30000000</td>\n",
       "      <td>0</td>\n",
       "      <td>1</td>\n",
       "      <td>1</td>\n",
       "      <td>1</td>\n",
       "      <td>1</td>\n",
       "      <td>1</td>\n",
       "    </tr>\n",
       "    <tr>\n",
       "      <th>1</th>\n",
       "      <td>0</td>\n",
       "      <td>24000000</td>\n",
       "      <td>0</td>\n",
       "      <td>1</td>\n",
       "      <td>2</td>\n",
       "      <td>1</td>\n",
       "      <td>1</td>\n",
       "      <td>1</td>\n",
       "    </tr>\n",
       "    <tr>\n",
       "      <th>2</th>\n",
       "      <td>0</td>\n",
       "      <td>28000000</td>\n",
       "      <td>0</td>\n",
       "      <td>1</td>\n",
       "      <td>3</td>\n",
       "      <td>1</td>\n",
       "      <td>1</td>\n",
       "      <td>1</td>\n",
       "    </tr>\n",
       "    <tr>\n",
       "      <th>3</th>\n",
       "      <td>0</td>\n",
       "      <td>67000000</td>\n",
       "      <td>0</td>\n",
       "      <td>1</td>\n",
       "      <td>4</td>\n",
       "      <td>1</td>\n",
       "      <td>1</td>\n",
       "      <td>1</td>\n",
       "    </tr>\n",
       "    <tr>\n",
       "      <th>4</th>\n",
       "      <td>0</td>\n",
       "      <td>55000000</td>\n",
       "      <td>0</td>\n",
       "      <td>1</td>\n",
       "      <td>5</td>\n",
       "      <td>1</td>\n",
       "      <td>1</td>\n",
       "      <td>0</td>\n",
       "    </tr>\n",
       "  </tbody>\n",
       "</table>\n",
       "</div>"
      ],
      "text/plain": [
       "   correct_answer  spent_time  num_attempt  course_id  question_id  topic_id  \\\n",
       "0               0    30000000            0          1            1         1   \n",
       "1               0    24000000            0          1            2         1   \n",
       "2               0    28000000            0          1            3         1   \n",
       "3               0    67000000            0          1            4         1   \n",
       "4               0    55000000            0          1            5         1   \n",
       "\n",
       "   user_id  is_ok  \n",
       "0        1      1  \n",
       "1        1      1  \n",
       "2        1      1  \n",
       "3        1      1  \n",
       "4        1      0  "
      ]
     },
     "execution_count": 10,
     "metadata": {},
     "output_type": "execute_result"
    }
   ],
   "source": [
    "del df['pass_date']\n",
    "df.head()"
   ]
  },
  {
   "cell_type": "markdown",
   "metadata": {},
   "source": [
    "Выделим целевой параметр - поле is_ok"
   ]
  },
  {
   "cell_type": "code",
   "execution_count": 11,
   "metadata": {},
   "outputs": [],
   "source": [
    "y_train = df.pop('is_ok')"
   ]
  },
  {
   "cell_type": "markdown",
   "metadata": {},
   "source": [
    "Построим модель. В качестве классификатора будем использовать решающие деревья. Выбор этой модели обусловлен следующими параметрами:\n",
    "1. Простота реализации. Для классификатора такого рода достаточно имеющейся у нас информации и нет необходимости в нормализации данных.\n",
    "2. Не требует больших вычислительных ресурсов. Поскольку подразумевается, что модель будет работать либо на сайте, либо должна быть жестко связана с базой данных сайта, то необходимо учитывать сложность компьютерных вычислений."
   ]
  },
  {
   "cell_type": "code",
   "execution_count": 12,
   "metadata": {},
   "outputs": [
    {
     "name": "stdout",
     "output_type": "stream",
     "text": [
      "Метрика Accuracy построенного классификатора: 1.0\n",
      "Вектор выходных значений классификатора: [1 1 1 1 0 1 1 0 1 1 1 1 0 1 0 1 1 0 1 1 1 1 0 1 0 1 1 0 1 1]\n"
     ]
    }
   ],
   "source": [
    "classifier = DecisionTreeClassifier()\n",
    "classifier.fit(df, y_train)\n",
    "predicted = classifier.predict(df)\n",
    "print(\"Метрика Accuracy построенного классификатора: \" + str(classifier.score(df, y_train)))\n",
    "print(\"Вектор выходных значений классификатора: \" + str(predicted))"
   ]
  },
  {
   "cell_type": "markdown",
   "metadata": {},
   "source": [
    "Для оценки качества работы смоделированной системы используется метрика Accuracy(точность). Она показывает соотношение правильных ответов ко всем возможным ответам системы. Значение Accuracy = 1 говорит о том, что система дала только верные ответы. То есть на показала 100 процентную точность на тренировочном датасете. "
   ]
  },
  {
   "cell_type": "markdown",
   "metadata": {},
   "source": [
    "Далее интерпретируем вектор выходных значений в понятную человеку информацию. Для этого посчитаем коэф. уверенности для каждого вопроса, который будет отображать как часто система назвала определенный вопрос некорректным."
   ]
  },
  {
   "cell_type": "code",
   "execution_count": 13,
   "metadata": {},
   "outputs": [
    {
     "data": {
      "text/plain": [
       "[0, 0, 2, 0, 3, 0, 0, 3, 0, 0]"
      ]
     },
     "execution_count": 13,
     "metadata": {},
     "output_type": "execute_result"
    }
   ],
   "source": [
    "confidence_score = [0] * 10\n",
    "iterator = 0\n",
    "for i in range(0, len(predicted)-1):\n",
    "    if predicted[i] == 0:\n",
    "        confidence_score[iterator] = confidence_score[iterator] + 1\n",
    "    iterator += 1\n",
    "    if iterator == 10:\n",
    "        iterator = 0\n",
    "        \n",
    "confidence_score"
   ]
  },
  {
   "cell_type": "markdown",
   "metadata": {},
   "source": [
    "Затем пронормируем этот коэф. для каждого вопроса и после нормировки сравним его с порогом, выше которого считаем вопрос некорректным, ниже корректным."
   ]
  },
  {
   "cell_type": "code",
   "execution_count": 14,
   "metadata": {},
   "outputs": [
    {
     "data": {
      "text/plain": [
       "[0, 0, 1, 0, 1, 0, 0, 1, 0, 0]"
      ]
     },
     "execution_count": 14,
     "metadata": {},
     "output_type": "execute_result"
    }
   ],
   "source": [
    "norm = max(confidence_score)\n",
    "threshold = 0.5 \n",
    "for i in range (0, len(confidence_score)): \n",
    "    confidence_score[i] = confidence_score[i] / norm\n",
    "    if confidence_score[i] > 0.5:\n",
    "        confidence_score[i] = 1\n",
    "    else:\n",
    "        confidence_score[i] = 0\n",
    "confidence_score"
   ]
  },
  {
   "cell_type": "code",
   "execution_count": 15,
   "metadata": {},
   "outputs": [
    {
     "name": "stdout",
     "output_type": "stream",
     "text": [
      "В курсе 1, в теме 1 вызывают затруднения вопросы:\n",
      "3 \n",
      "5 \n",
      "8 \n"
     ]
    }
   ],
   "source": [
    "print(\"В курсе \" + str(course) + \", в теме \" + str(topic)+ \" вызывают затруднения вопросы:\")\n",
    "for i in range(0, len(confidence_score)):\n",
    "    if confidence_score[i] == 1:\n",
    "        print(str(i+1) + \" \")"
   ]
  },
  {
   "cell_type": "markdown",
   "metadata": {},
   "source": [
    "Выходные значения построенной модели полностью соответствуют исследуемому датасету. Поскольку при формировании анализируемой в данной работе таблицы данных, в неё предумышленно были внесены изменения, такие как:\n",
    "1. Для 3, 5 и 8-ых вопросов было увеличено время, за которое наши воображаемые пользователи дали ответ.\n",
    "2. В этих вопросах пользователи ошибались чаще, либо дольше не могли дать правильный ответ.\n",
    "3. Остальные данные имели случайное нормальное распределение. То есть, в среднем для ответа на остальные вопросы требовалось меньше времени и в них пользователи реже ошибались."
   ]
  }
 ],
 "metadata": {
  "kernelspec": {
   "display_name": "Python 3",
   "language": "python",
   "name": "python3"
  },
  "language_info": {
   "codemirror_mode": {
    "name": "ipython",
    "version": 3
   },
   "file_extension": ".py",
   "mimetype": "text/x-python",
   "name": "python",
   "nbconvert_exporter": "python",
   "pygments_lexer": "ipython3",
   "version": "3.6.9"
  }
 },
 "nbformat": 4,
 "nbformat_minor": 4
}
